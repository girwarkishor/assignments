{
 "cells": [
  {
   "cell_type": "code",
   "execution_count": 3,
   "id": "fbc0f0bb-c856-4ead-9d18-2d9303e7533f",
   "metadata": {},
   "outputs": [
    {
     "name": "stdout",
     "output_type": "stream",
     "text": [
      "Roll Number:  1234\n",
      "Name       :  Girwar\n",
      "Email      :  girwar@gmail.com\n",
      "--------xxx--------\n",
      "Roll Number:  1235\n",
      "Name       :  Prince\n",
      "Email      :  prince@gmail.com\n"
     ]
    }
   ],
   "source": [
    "# Q1. Explain Class and Object with respect to Object-Oriented Programming. Give a suitable example.\n",
    "\n",
    "# Ans: In object-oriented programming, a class is a blueprint for creating objects. It defines the properties, \n",
    "# methods, and behaviors of objects that belong to it. A class acts like a template for the creation of objects that \n",
    "# share similar characteristics. Objects, on the other hand, are instances of a class. They are created by calling \n",
    "# the constructor method of the class. Objects can have different values for their attributes but they share the \n",
    "# behaviors defined in their respective class. For example, the class \"Car\" can define properties \n",
    "# such as \"color,\" \"model,\" and \"miles per gallon.\" Objects of this class can be created with unique values for each of \n",
    "# these properties, such as a \"red Ford Mustang that gets 25 miles per gallon.\" The methods defined in the class \"Car,\" \n",
    "# such as \"start\" and \"stop,\" can be called on any object of that class, enabling the creation of reliable and \n",
    "# predictable code.\n",
    "\n",
    "# Eg.\n",
    "class student:\n",
    "    # constructor\n",
    "    def __init__(self, roll_number, name, email_id):\n",
    "        self.roll_number = roll_number\n",
    "        self.name = name\n",
    "        self.email_id = email_id\n",
    "        \n",
    "    def student_info(self):\n",
    "        print('Roll Number: ',self.roll_number)\n",
    "        print('Name       : ',self.name)\n",
    "        print('Email      : ',self.email_id)\n",
    "        \n",
    "stu1 = student(1234,'Girwar','girwar@gmail.com')\n",
    "stu1.student_info()\n",
    "print('--------xxx--------')\n",
    "stu2 = student(1235,'Prince','prince@gmail.com')\n",
    "stu2.student_info()"
   ]
  },
  {
   "cell_type": "code",
   "execution_count": 4,
   "id": "818675a6-cbc0-42d0-8d02-49d4e6875afb",
   "metadata": {},
   "outputs": [],
   "source": [
    "# Q2. Name the four pillars of OOPs.\n",
    "\n",
    "# Ans: The four pillars of OOP are encapsulation, abstraction, inheritance, and polymorphism."
   ]
  },
  {
   "cell_type": "code",
   "execution_count": 5,
   "id": "d0b856c2-86f6-432c-adb1-b678dc118843",
   "metadata": {},
   "outputs": [],
   "source": [
    "# Q3. Explain why the __init__() function is used. Give a suitable example.\n",
    "\n",
    "# Ans: The init() function is a special method used in object-oriented programming to initialize and set up \n",
    "# class instances or objects. It is called automatically when a new instance of a class is created and is used to \n",
    "# set up the initial state of the object. This function allows developers to define and initialize default values \n",
    "# for the class attributes and ensure that instances of the class are created with proper values.\n",
    "\n",
    "# Eg.\n",
    "class emp:\n",
    "    def __init__(self, name, age, salary):\n",
    "        self.name = name\n",
    "        self.age = age\n",
    "        self.salary = salary\n",
    "\n",
    "john = emp('John',34,34000)"
   ]
  },
  {
   "cell_type": "code",
   "execution_count": null,
   "id": "984a62a2-21b9-4d97-bfd5-168a1431ccfa",
   "metadata": {},
   "outputs": [],
   "source": [
    "# Q4. Why self is used in OOPs?\n",
    "\n",
    "# Ans. The self variable is used to represent the instance of the class which is often used in \n",
    "# object-oriented programming. It works as a reference to the object. Python uses the self parameter to refer \n",
    "# to instance attributes and methods of the class."
   ]
  },
  {
   "cell_type": "code",
   "execution_count": null,
   "id": "4a6d412b-ed0a-42a5-bfcf-19c70bf0779c",
   "metadata": {},
   "outputs": [],
   "source": [
    "# Q5. What is inheritance? Give an example for each type of inheritance.\n",
    "\n",
    "# Ans: Inheritance in Python is a mechanism where one class acquires the attributes and methods of another class.\n",
    "\n",
    "# There are four types of inheritance- Single, Multiple, Multilevel and Hierarchical.\n",
    "\n",
    "# Single inheritance refers to the situation where a class inherits from only one superclass. For example, \n",
    "# class Dog inherits from the superclass Animal.\n",
    "\n",
    "# Multiple inheritance refers to a situation where a class can inherit attributes and methods from more than one superclass. \n",
    "# For example, class Child inherits attributes and methods from both Father and Mother.\n",
    "\n",
    "# Multilevel inheritance refers to a situation where a subclass inherits from a superclass, which inherits from \n",
    "# another superclass. \n",
    "# For example, class Grandson inherits from class Son, which in turn inherits from class Father.\n",
    "\n",
    "# Hierarchical inheritance refers to a situation where more than one class inherits from a single superclass. \n",
    "# For example, both class Son and class Daughter inherit from class Father.\n"
   ]
  }
 ],
 "metadata": {
  "kernelspec": {
   "display_name": "Python 3 (ipykernel)",
   "language": "python",
   "name": "python3"
  },
  "language_info": {
   "codemirror_mode": {
    "name": "ipython",
    "version": 3
   },
   "file_extension": ".py",
   "mimetype": "text/x-python",
   "name": "python",
   "nbconvert_exporter": "python",
   "pygments_lexer": "ipython3",
   "version": "3.10.8"
  }
 },
 "nbformat": 4,
 "nbformat_minor": 5
}

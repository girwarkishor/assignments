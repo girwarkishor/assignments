{
 "cells": [
  {
   "cell_type": "code",
   "execution_count": 2,
   "id": "93583965-4bec-41da-b814-fdd6197f10dc",
   "metadata": {},
   "outputs": [],
   "source": [
    "# Q1. Which keyword is used to create a function? Create a function to return a list of odd numbers in the range of 1 to 25."
   ]
  },
  {
   "cell_type": "code",
   "execution_count": 7,
   "id": "ecf0f588-5772-4372-8923-7f206afd95f5",
   "metadata": {},
   "outputs": [
    {
     "name": "stdout",
     "output_type": "stream",
     "text": [
      "1\n",
      "3\n",
      "5\n",
      "7\n",
      "9\n",
      "11\n",
      "13\n",
      "15\n",
      "17\n",
      "19\n",
      "21\n",
      "23\n",
      "25\n"
     ]
    }
   ],
   "source": [
    "# Ans: The \"def\" keyword is used to create a function\n",
    "def fun1(num):\n",
    "    for i in range(1, num+1,2):\n",
    "        print(i)\n",
    "\n",
    "fun1(25)\n"
   ]
  },
  {
   "cell_type": "code",
   "execution_count": 9,
   "id": "29277901-40e6-4c8f-b1c1-e2d6f9ba2a30",
   "metadata": {},
   "outputs": [],
   "source": [
    "# Q2. Why *args and **kwargs is used in some functions? Create a function each for *args and **kwargs to \n",
    "# demonstrate their use."
   ]
  },
  {
   "cell_type": "code",
   "execution_count": 10,
   "id": "34c9753c-4114-4b21-ac52-28577d079796",
   "metadata": {},
   "outputs": [
    {
     "data": {
      "text/plain": [
       "15"
      ]
     },
     "execution_count": 10,
     "metadata": {},
     "output_type": "execute_result"
    }
   ],
   "source": [
    "# Ans: *args and **kwargs are special syntaxes used to pass a variable number of arguments to a function.\n",
    "\n",
    "# *args is used to pass a variable number of non-keyworded arguments to a function. It allows you to pass any number of \n",
    "# arguments to a function without the need to specify them individually. Inside the function, these arguments are treated \n",
    "# as a tuple.\n",
    "\n",
    "# Here's an example of a function that uses *args:\n",
    "\n",
    "def sum_num(*args):\n",
    "    total = 0\n",
    "    for i in args:\n",
    "        total += i\n",
    "    return total\n",
    "\n",
    "sum_num(1,2,3,4,5)\n"
   ]
  },
  {
   "cell_type": "code",
   "execution_count": 11,
   "id": "5841737e-9f83-42a4-83a7-f6761cc63cd2",
   "metadata": {},
   "outputs": [
    {
     "data": {
      "text/plain": [
       "48"
      ]
     },
     "execution_count": 11,
     "metadata": {},
     "output_type": "execute_result"
    }
   ],
   "source": [
    "sum_num(12,12,12,12)"
   ]
  },
  {
   "cell_type": "code",
   "execution_count": 15,
   "id": "b55836dc-1d5b-4644-bc5b-90ed0c3ce2f6",
   "metadata": {},
   "outputs": [
    {
     "name": "stdout",
     "output_type": "stream",
     "text": [
      "Name:  Girwar\n",
      "Email:  girwar@gmail.com\n",
      "Gender:  Male\n"
     ]
    }
   ],
   "source": [
    "# **kwargs, on the other hand, is used to pass a variable number of keyworded arguments to a function. It allows you to \n",
    "# pass any number of named arguments to a function without the need to specify them individually. Inside the function, \n",
    "# these arguments are treated as a dictionary.\n",
    "\n",
    "# Here's an example of a function that uses **kwargs:\n",
    "\n",
    "def print_info(**kwargs):\n",
    "    print(\"Name: \",kwargs.get('name'))\n",
    "    print(\"Email: \",kwargs.get('email'))\n",
    "    print(\"Gender: \",kwargs.get('gender'))\n",
    "    \n",
    "print_info(name = \"Girwar\", email = \"girwar@gmail.com\", gender = \"Male\")"
   ]
  },
  {
   "cell_type": "code",
   "execution_count": 16,
   "id": "03a54369-7aca-44ff-81f4-89affb6ea6d1",
   "metadata": {},
   "outputs": [
    {
     "name": "stdout",
     "output_type": "stream",
     "text": [
      "Name:  Mona\n",
      "Email:  mona@gmail.com\n",
      "Gender:  Female\n"
     ]
    }
   ],
   "source": [
    "print_info(name = \"Mona\", email = \"mona@gmail.com\", gender = \"Female\")"
   ]
  },
  {
   "cell_type": "code",
   "execution_count": 17,
   "id": "b1dfbaea-4724-4a84-b7b8-f5ec6d949614",
   "metadata": {},
   "outputs": [],
   "source": [
    "# In conclusion, *args and **kwargs are used in functions to provide more flexibility in the number of arguments that can be passed to the function. They are particularly useful when you don't know the exact number of arguments or when you want to allow the user to pass \n",
    "# named arguments in any order."
   ]
  },
  {
   "cell_type": "code",
   "execution_count": 1,
   "id": "9a3da0b7-c93e-4832-bafb-fd4ccf099098",
   "metadata": {},
   "outputs": [],
   "source": [
    "# Q3. What is an iterator in python? Name the method used to initialise the iterator object and the method\n",
    "# used for iteration. Use these methods to print the first five elements of the given list [2, 4, 6, 8, 10, 12, 14,\n",
    "# 16, 18, 20]."
   ]
  },
  {
   "cell_type": "code",
   "execution_count": 6,
   "id": "9efda208-b875-4676-bd26-13fff76aa6ba",
   "metadata": {},
   "outputs": [
    {
     "name": "stdout",
     "output_type": "stream",
     "text": [
      "2\n",
      "4\n",
      "6\n",
      "8\n",
      "10\n"
     ]
    }
   ],
   "source": [
    "# Ans: An iterator is an object that allows sequential access to elements of a collection or sequence, \n",
    "# such as a list or a tuple. An iterator provides a way to access the elements of a collection without \n",
    "# exposing its underlying representation.\n",
    "\n",
    "# Eg. \n",
    "\n",
    "# instantiate a list object\n",
    "list_seq = [2, 4, 6, 8, 10, 12, 14, 16, 18, 20]\n",
    "\n",
    "# convert the list to an iterator\n",
    "iterator = iter(list_seq)\n",
    "\n",
    "# return items one at a time\n",
    "for i in range(5):\n",
    "    print(next(iterator))\n",
    "\n"
   ]
  },
  {
   "cell_type": "code",
   "execution_count": 5,
   "id": "5372a748-54d1-48fe-892f-22cd1dd1410f",
   "metadata": {},
   "outputs": [
    {
     "name": "stdout",
     "output_type": "stream",
     "text": [
      "0\n",
      "1\n",
      "1\n",
      "2\n",
      "3\n",
      "5\n",
      "8\n",
      "13\n",
      "21\n",
      "34\n"
     ]
    }
   ],
   "source": [
    "# Q4. What is a generator function in python? Why yield keyword is used? Give an example of a generator\n",
    "# function.\n",
    "\n",
    "# Ans: A Python generator function allows you to declare a function that behaves like an iterator, \n",
    "# providing a faster and easier way to create iterators. They can be used on an abstract container of \n",
    "# data to turn it into an iterable object like lists, dictionaries and strings.    \n",
    "\n",
    "# The yield keyword in Python controls the flow of a generator function. This is similar to a \n",
    "# return statement used for returning values in Python.\n",
    "# However, there is a difference.\n",
    "\n",
    "# When you call a function that has a yield statement, as soon as a yield is encountered, \n",
    "# the execution of the function halts and returns a generator iterator object instead of \n",
    "# simply returning a value. The state of the function, which includes variable bindings, \n",
    "# the instruction pointer, the internal stack, and a few other things, is saved.\n",
    "\n",
    "# Eg.\n",
    "\n",
    "def test_fib():\n",
    "    a,b = 0,1\n",
    "    while True:\n",
    "        yield a\n",
    "        a,b = b, a+b\n",
    "        \n",
    "fib = test_fib()\n",
    "\n",
    "for i in range(10):\n",
    "    print(next(fib))"
   ]
  },
  {
   "cell_type": "code",
   "execution_count": 1,
   "id": "386f8159-557e-42e1-af79-9b70068f6815",
   "metadata": {},
   "outputs": [
    {
     "name": "stdout",
     "output_type": "stream",
     "text": [
      "2\n",
      "3\n",
      "5\n",
      "7\n",
      "11\n",
      "13\n",
      "17\n",
      "19\n",
      "23\n",
      "29\n",
      "31\n",
      "37\n",
      "41\n",
      "43\n",
      "47\n",
      "53\n",
      "59\n",
      "61\n",
      "67\n",
      "71\n"
     ]
    }
   ],
   "source": [
    "# Q5. Create a generator function for prime numbers less than 1000. Use the next() method to print the\n",
    "# first 20 prime numbers.\n",
    "\n",
    "def prime_numbers():\n",
    "    for num in range(2, 1000):\n",
    "        for i in range(2, int(num**0.5) + 1):\n",
    "            if num % i == 0:\n",
    "                break\n",
    "        else:\n",
    "            yield num\n",
    "\n",
    "# Use the generator function to print the first 20 prime numbers\n",
    "prime_gen = prime_numbers()\n",
    "for i in range(20):\n",
    "    print(next(prime_gen))"
   ]
  },
  {
   "cell_type": "code",
   "execution_count": 7,
   "id": "481e76e2-7ae5-4eec-bfe6-b2faa2993890",
   "metadata": {},
   "outputs": [
    {
     "name": "stdout",
     "output_type": "stream",
     "text": [
      "0\n",
      "1\n",
      "1\n",
      "2\n",
      "3\n",
      "5\n",
      "8\n",
      "13\n",
      "21\n",
      "34\n"
     ]
    }
   ],
   "source": [
    "# Q6. Write a python program to print the first 10 Fibonacci numbers using a while loop.\n",
    "def fib_num(n):\n",
    "    a,b = 0,1\n",
    "    while 0<n:\n",
    "        print(a)\n",
    "        a,b=b,a+b\n",
    "        n -=1\n",
    "fib_num(10)"
   ]
  },
  {
   "cell_type": "code",
   "execution_count": 8,
   "id": "f8343dbb-ff8b-4c99-808a-4f6d714bbc11",
   "metadata": {},
   "outputs": [
    {
     "name": "stdout",
     "output_type": "stream",
     "text": [
      "['p', 'w', 's', 'k', 'i', 'l', 'l', 's']\n"
     ]
    }
   ],
   "source": [
    "# Q7. Write a List Comprehension to iterate through the given string: ‘pwskills’.\n",
    "# Expected output: ['p', 'w', 's', 'k', 'i', 'l', 'l', 's']\n",
    "def inp_str(s):\n",
    "    print(list(s))\n",
    "    \n",
    "inp_str('pwskills')"
   ]
  },
  {
   "cell_type": "code",
   "execution_count": 21,
   "id": "4c29294c-b7bf-49d0-a6d0-3064f046abc3",
   "metadata": {},
   "outputs": [
    {
     "name": "stdout",
     "output_type": "stream",
     "text": [
      "121 is a palindrome\n"
     ]
    }
   ],
   "source": [
    "# Q8. Write a python program to check whether a given number is Palindrome or not using a while loop.\n",
    "def palin_num(n):\n",
    "    number = n\n",
    "    reverse = 0\n",
    "    while n != 0:\n",
    "        remainder = n % 10\n",
    "        reverse = reverse * 10 + remainder\n",
    "        n = int(n/10)\n",
    "    if number == reverse:\n",
    "        print(number, 'is a palindrome')\n",
    "    else:\n",
    "        print(number, 'is not a palindrome')\n",
    "\n",
    "palin_num(121)"
   ]
  },
  {
   "cell_type": "code",
   "execution_count": 24,
   "id": "abb27257-f834-4cbb-a684-4ca4b0f911ad",
   "metadata": {},
   "outputs": [
    {
     "data": {
      "text/plain": [
       "[1,\n",
       " 3,\n",
       " 5,\n",
       " 7,\n",
       " 9,\n",
       " 11,\n",
       " 13,\n",
       " 15,\n",
       " 17,\n",
       " 19,\n",
       " 21,\n",
       " 23,\n",
       " 25,\n",
       " 27,\n",
       " 29,\n",
       " 31,\n",
       " 33,\n",
       " 35,\n",
       " 37,\n",
       " 39,\n",
       " 41,\n",
       " 43,\n",
       " 45,\n",
       " 47,\n",
       " 49,\n",
       " 51,\n",
       " 53,\n",
       " 55,\n",
       " 57,\n",
       " 59,\n",
       " 61,\n",
       " 63,\n",
       " 65,\n",
       " 67,\n",
       " 69,\n",
       " 71,\n",
       " 73,\n",
       " 75,\n",
       " 77,\n",
       " 79,\n",
       " 81,\n",
       " 83,\n",
       " 85,\n",
       " 87,\n",
       " 89,\n",
       " 91,\n",
       " 93,\n",
       " 95,\n",
       " 97,\n",
       " 99]"
      ]
     },
     "execution_count": 24,
     "metadata": {},
     "output_type": "execute_result"
    }
   ],
   "source": [
    "# Q9. Write a code to print odd numbers from 1 to 100 using list comprehension.\n",
    "\n",
    "[element for element in range(1,101) if element%2 == 1]"
   ]
  },
  {
   "cell_type": "code",
   "execution_count": null,
   "id": "51d37183-47c0-4d3e-b351-ab9d1a807016",
   "metadata": {},
   "outputs": [],
   "source": []
  }
 ],
 "metadata": {
  "kernelspec": {
   "display_name": "Python 3 (ipykernel)",
   "language": "python",
   "name": "python3"
  },
  "language_info": {
   "codemirror_mode": {
    "name": "ipython",
    "version": 3
   },
   "file_extension": ".py",
   "mimetype": "text/x-python",
   "name": "python",
   "nbconvert_exporter": "python",
   "pygments_lexer": "ipython3",
   "version": "3.10.8"
  }
 },
 "nbformat": 4,
 "nbformat_minor": 5
}

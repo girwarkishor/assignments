{
 "cells": [
  {
   "cell_type": "code",
   "execution_count": 1,
   "id": "92bd68e1-7881-40c4-aa54-18e13b270be5",
   "metadata": {},
   "outputs": [],
   "source": [
    "# Q1. Explain with an example each when to use a for loop and a while loop?"
   ]
  },
  {
   "cell_type": "code",
   "execution_count": 3,
   "id": "e3f20a11-6734-49cc-bb8c-793db6458b1e",
   "metadata": {},
   "outputs": [
    {
     "data": {
      "text/plain": [
       "' 1. For loop: \\n        - When you have a collection of items and want to perform the same operation on each item, use a for loop.\\n        - For example, if you have a list of numbers and you want to print each number in the list, you can use a for loop.          \\n'"
      ]
     },
     "execution_count": 3,
     "metadata": {},
     "output_type": "execute_result"
    }
   ],
   "source": [
    "\"\"\" 1. For loop: \n",
    "        - When you have a collection of items and want to perform the same operation on each item, use a for loop.\n",
    "        - For example, if you have a list of numbers and you want to print each number in the list, you can use a for loop.          \n",
    "\"\"\""
   ]
  },
  {
   "cell_type": "code",
   "execution_count": 5,
   "id": "020fe9f3-dc38-499a-b5d0-a13ef1d37df3",
   "metadata": {},
   "outputs": [
    {
     "name": "stdout",
     "output_type": "stream",
     "text": [
      "1\n",
      "2\n",
      "3\n",
      "4\n",
      "5\n",
      "6\n",
      "7\n",
      "8\n"
     ]
    }
   ],
   "source": [
    "number = [1,2,3,4,5,6,7,8]\n",
    "for i in number:\n",
    "    print(i)"
   ]
  },
  {
   "cell_type": "code",
   "execution_count": 6,
   "id": "c7ad375f-4b1e-4b2a-acdc-5e99de832e43",
   "metadata": {},
   "outputs": [
    {
     "data": {
      "text/plain": [
       "' 2. While loop:\\n        - When you want to repeat a block of code until a certain condition is met, use a while loop.\\n        - For example, if you want to keep asking the user for input until they enter vaild input, you can use a while loop.\\n        '"
      ]
     },
     "execution_count": 6,
     "metadata": {},
     "output_type": "execute_result"
    }
   ],
   "source": [
    "\"\"\" 2. While loop:\n",
    "        - When you want to repeat a block of code until a certain condition is met, use a while loop.\n",
    "        - For example, if you want to keep asking the user for input until they enter vaild input, you can use a while loop.\n",
    "        \"\"\""
   ]
  },
  {
   "cell_type": "code",
   "execution_count": 7,
   "id": "483b8f5b-d8f8-4596-8d6b-66eb93c629f8",
   "metadata": {},
   "outputs": [
    {
     "name": "stdin",
     "output_type": "stream",
     "text": [
      "Please type your name.  Girwar\n",
      "Please type your name.  your name\n"
     ]
    },
    {
     "name": "stdout",
     "output_type": "stream",
     "text": [
      "Thank you\n"
     ]
    }
   ],
   "source": [
    "while True:\n",
    "    name = input(\"Please type your name. \")\n",
    "    if name == 'your name':\n",
    "        break\n",
    "print(\"Thank you\")"
   ]
  },
  {
   "cell_type": "code",
   "execution_count": 8,
   "id": "08acdcac-87bf-4839-ada9-78fef5df6d7e",
   "metadata": {},
   "outputs": [],
   "source": [
    "# Q2. Write a python program to print the sum and product of the first 10 natural numbers using for and while loop?"
   ]
  },
  {
   "cell_type": "code",
   "execution_count": 17,
   "id": "80f5a6b7-3c9a-4a07-9c17-17c762dbd878",
   "metadata": {},
   "outputs": [
    {
     "name": "stdout",
     "output_type": "stream",
     "text": [
      "Sum of first 10 natural number is:  55\n",
      "Product of first nutural number is:  3628800\n"
     ]
    }
   ],
   "source": [
    "# Example using for loop:\n",
    "s = 0\n",
    "p = 1\n",
    "for i in range(1,11,1):\n",
    "    s+=i\n",
    "    p*=i\n",
    "print(\"Sum of first 10 natural number is: \",s)\n",
    "print(\"Product of first nutural number is: \",p)"
   ]
  },
  {
   "cell_type": "code",
   "execution_count": 19,
   "id": "013f08a5-f0d7-4ac2-b0d2-f5fdf19ac1e2",
   "metadata": {},
   "outputs": [
    {
     "name": "stdout",
     "output_type": "stream",
     "text": [
      "Sum of first 10 natural number is:  55\n",
      "Product of first nutural number is:  3628800\n"
     ]
    }
   ],
   "source": [
    "# Example using while loop:\n",
    "s = 0\n",
    "p = 1\n",
    "range = 10\n",
    "while range > 0:\n",
    "    s+=range\n",
    "    p*=range\n",
    "    range-=1\n",
    "print(\"Sum of first 10 natural number is: \",s)\n",
    "print(\"Product of first nutural number is: \",p)"
   ]
  },
  {
   "cell_type": "code",
   "execution_count": 20,
   "id": "7e8f8a17-065d-4b14-91df-1df0c20b76b1",
   "metadata": {},
   "outputs": [],
   "source": [
    "# Q3. Create a python program to compute the electricity bill for a household.\n",
    "# The per-unit charges in rupees are as follows:\n",
    "#     For the the first 100 units, the user will be charged Rs. 4.5 per unit, \n",
    "#     for the next 100 units, the user will be charged Rs. 6 per unit, \n",
    "#     and for the next 100 units. the user will be charged Rs. 10 per unit, \n",
    "#     After 300 units and above the user will be charged Rs. 20 per unit.\n",
    "    \n",
    "# You are required to take the units of electricity consumed in a month from the user as input\n",
    "\n",
    "# Your program must pass this test cases:\n",
    "#     When the unit of electricity consumed by the user in a month is 310, the total electricity bill should be 2250"
   ]
  },
  {
   "cell_type": "code",
   "execution_count": 27,
   "id": "2a309384-f955-4b42-ace9-78fb72ba53e2",
   "metadata": {},
   "outputs": [
    {
     "name": "stdin",
     "output_type": "stream",
     "text": [
      "Please enter the unit of electricity consumed:  310\n"
     ]
    },
    {
     "name": "stdout",
     "output_type": "stream",
     "text": [
      "You have to pay Rs.  2250.0  rupees\n"
     ]
    }
   ],
   "source": [
    "no_units = int(input(\"Please enter the unit of electricity consumed: \"))\n",
    "charges = 0\n",
    "while no_units > 0:\n",
    "    if no_units <= 100:\n",
    "        charges += no_units * 4.5\n",
    "        no_units = 0\n",
    "    elif no_units <= 200:\n",
    "        charges += 100 * 4.5\n",
    "        no_units -= 100\n",
    "        charges += no_units * 6\n",
    "        no_units = 0\n",
    "    elif no_units <= 300:\n",
    "        charges += 100 * 4.5\n",
    "        charges += 100 * 6\n",
    "        no_units -= 200\n",
    "        charges += no_units * 10\n",
    "        no_units = 0\n",
    "    else:\n",
    "        charges += 100 * 4.5\n",
    "        charges += 100 * 6\n",
    "        charges += 100 * 10\n",
    "        no_units -= 300\n",
    "        charges += no_units * 20\n",
    "        no_units = 0\n",
    "\n",
    "print(\"You have to pay Rs. \", charges, \" rupees\")\n"
   ]
  },
  {
   "cell_type": "code",
   "execution_count": 28,
   "id": "184a06dd-911e-4af3-bc58-276754c832ac",
   "metadata": {},
   "outputs": [],
   "source": [
    "# Q4. Create a list of numbers from 1 to 100. Use for loop and while loop to calculate the cube of each number and if the cube of that number is divisible by 4 or 5 then append that number in a list and print that list?"
   ]
  },
  {
   "cell_type": "code",
   "execution_count": 42,
   "id": "511ac724-e505-4e99-9077-4ef18d19aee2",
   "metadata": {},
   "outputs": [
    {
     "name": "stdout",
     "output_type": "stream",
     "text": [
      "[2, 4, 5, 6, 8, 10, 12, 14, 15, 16, 18, 20, 22, 24, 25, 26, 28, 30, 32, 34, 35, 36, 38, 40, 42, 44, 45, 46, 48, 50, 52, 54, 55, 56, 58, 60, 62, 64, 65, 66, 68, 70, 72, 74, 75, 76, 78, 80, 82, 84, 85, 86, 88, 90, 92, 94, 95, 96, 98, 100]\n"
     ]
    }
   ],
   "source": [
    "# Using While Loop\n",
    "l = []\n",
    "count = 1\n",
    "while count <= 100:\n",
    "    num = count\n",
    "    if num**3 % 4 == 0 or num**3 % 5 == 0:\n",
    "        l.append(num)\n",
    "    count+=1\n",
    "print(l)\n",
    "    "
   ]
  },
  {
   "cell_type": "code",
   "execution_count": null,
   "id": "40e0ce6c-2512-4df5-8c9f-5940cc9cfa6b",
   "metadata": {},
   "outputs": [],
   "source": [
    "# Using For Loop\n",
    "l1 = []\n",
    "for i in range(101):\n",
    "    if i**3 % 4 == 0  or i**3 % 5 == 0:\n",
    "        l1.append(i)\n",
    "print(l1)   "
   ]
  },
  {
   "cell_type": "code",
   "execution_count": 48,
   "id": "37a03833-f561-4115-bb54-84656d537a9a",
   "metadata": {},
   "outputs": [],
   "source": [
    "# Q5. Write a program to filter count vowels in the below-given string\n",
    "# string = \"I want to become a data scientist\""
   ]
  },
  {
   "cell_type": "code",
   "execution_count": 60,
   "id": "1921bb76-1311-4fa2-bc3e-54ad428f5420",
   "metadata": {},
   "outputs": [
    {
     "name": "stdout",
     "output_type": "stream",
     "text": [
      "Total no of Vowels in string 'I want to become a data scientist' is:  4\n"
     ]
    }
   ],
   "source": [
    "string = \"I want to become a data scientist\"\n",
    "str1 = string.lower()\n",
    "count = 0\n",
    "for i in set(str1):\n",
    "    if i == 'a' or i == 'e' or i == 'i' or i =='o' or i =='u':\n",
    "        count += 1\n",
    "print(\"Total no of Vowels in string 'I want to become a data scientist' is: \", count)"
   ]
  },
  {
   "cell_type": "code",
   "execution_count": null,
   "id": "e18a0045-09ea-41ed-a989-76639ff47b99",
   "metadata": {},
   "outputs": [],
   "source": []
  }
 ],
 "metadata": {
  "kernelspec": {
   "display_name": "Python 3 (ipykernel)",
   "language": "python",
   "name": "python3"
  },
  "language_info": {
   "codemirror_mode": {
    "name": "ipython",
    "version": 3
   },
   "file_extension": ".py",
   "mimetype": "text/x-python",
   "name": "python",
   "nbconvert_exporter": "python",
   "pygments_lexer": "ipython3",
   "version": "3.10.8"
  }
 },
 "nbformat": 4,
 "nbformat_minor": 5
}
